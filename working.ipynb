{
 "cells": [
  {
   "cell_type": "code",
   "execution_count": 1,
   "metadata": {},
   "outputs": [],
   "source": [
    "using CSV, DataFrames"
   ]
  },
  {
   "cell_type": "code",
   "execution_count": 2,
   "metadata": {},
   "outputs": [],
   "source": [
    "nbSP = 10000;\n",
    "nbStages= 24;\n",
    "nbRealization = 50;"
   ]
  },
  {
   "cell_type": "code",
   "execution_count": 7,
   "metadata": {},
   "outputs": [],
   "source": [
    "SP = rand(1:nbRealization, nbSP,nbStages);\n",
    "SP[:,1] .=1;"
   ]
  },
  {
   "cell_type": "code",
   "execution_count": 8,
   "metadata": {},
   "outputs": [
    {
     "data": {
      "text/plain": [
       "10000×24 Array{Int64,2}:\n",
       " 1  13   1  10  10  49  24  15  16   9  …  45   5  49   4   3  32  11  41  18\n",
       " 1  45  40  18  20  46   5  35  20   4     10  13  40  39  28  19   7  44  19\n",
       " 1  22  13   1  44  46  31  16  34  35      5  28  42  11  14   9  24  44   5\n",
       " 1   2   5  24  27  27  29  27  46   9     15  25   9  45  44  42  16  36  28\n",
       " 1  48  36   4  34  48  35   5  50  27     26  27  29  41  33  31   8  13  18\n",
       " 1  47  23  48  43  13  26  35  46   6  …  40   7  24  39  43   3   1  16  20\n",
       " 1  33  21  40  30  40   2  37  18  24     35  15   5  12  40  25  37  23  14\n",
       " 1  40  11  12  23  33  28   3  17  18     24   1  16  13  28  10   5  37   6\n",
       " 1  20  18  18  32  43  28  18   1   1     22  16  40  25  27  19  40  43  45\n",
       " 1  18  15  19  12  15  19  37  32  38     39  28  11  40   6   4  10  21  30\n",
       " 1  42  23  35  27  26  42  48  47  18  …  24  18  18  20   9  44  16  14  44\n",
       " 1  43  26  48  12  47  41  48  35  41     47   1  27  34  34   5  17   2  10\n",
       " 1  19  31  46  47  20  47  39  11  10     42  40   5  26   3  50   7  45  48\n",
       " ⋮                   ⋮                  ⋱   ⋮                   ⋮            \n",
       " 1  41  27  34  31  25  20   2  27   9     37  22   6  41  46   8  11  14   7\n",
       " 1  50  26  25  45  36   7  38  26  20     38   9  37  10  20  18  20  41   3\n",
       " 1   3   1  16   6  49   7   1   1  26  …  24  50  43  47   7   8  30  22  20\n",
       " 1  18  15  40  21  30  24  11  16  42     37   7  29   3  33  16  38  14  39\n",
       " 1  10   6  10   1  12  28   9   9  18      6  46  20  31  40  44   2  27  41\n",
       " 1   3  40  32  42  17  48  20  37  13     48   3  14  10   1  50   7  21  14\n",
       " 1  49  40  16  41  50  25  39  14   3     27  36  10  20  44  47  40  25  37\n",
       " 1  33  37  49  37  24   2  32  18  17  …  26  48  19   6   5  16  11  39  31\n",
       " 1  34   5  41  50  35  45  43  19  35     25  30   3  39   8  11  34  11  18\n",
       " 1  31  30  21  20  34  16  20  46  16     43  34  38  50  35  41  12   2  13\n",
       " 1  41  28  27   7  25   2  30  34   5     11  50  50  42  49  14  18  29  48\n",
       " 1  26  20  49  14  25  22   2  47   4     21  30  43  44  41   8  19  32  37"
      ]
     },
     "execution_count": 8,
     "metadata": {},
     "output_type": "execute_result"
    }
   ],
   "source": [
    "SP"
   ]
  },
  {
   "cell_type": "code",
   "execution_count": 10,
   "metadata": {},
   "outputs": [
    {
     "data": {
      "text/plain": [
       "\"OSpath.csv\""
      ]
     },
     "execution_count": 10,
     "metadata": {},
     "output_type": "execute_result"
    }
   ],
   "source": [
    "df = DataFrame(SP, :auto);\n",
    "CSV.write(\"OSpath.csv\", df)"
   ]
  },
  {
   "cell_type": "code",
   "execution_count": null,
   "metadata": {},
   "outputs": [],
   "source": []
  }
 ],
 "metadata": {
  "kernelspec": {
   "display_name": "Julia 1.1.1",
   "language": "julia",
   "name": "julia-1.1"
  },
  "language_info": {
   "file_extension": ".jl",
   "mimetype": "application/julia",
   "name": "julia",
   "version": "1.1.1"
  }
 },
 "nbformat": 4,
 "nbformat_minor": 4
}
